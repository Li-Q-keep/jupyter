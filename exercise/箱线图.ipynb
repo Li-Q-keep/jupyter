{
 "cells": [
  {
   "cell_type": "code",
   "execution_count": 3,
   "outputs": [],
   "source": [
    "#-*- coding : utf-8 -*-\n",
    "# coding: utf-8\n",
    "import seaborn as sns\n",
    "import pandas as pd\n",
    "from patsy import dmatrices\n",
    "import numpy as np\n",
    "from statsmodels.api import add_constant\n",
    "from statsmodels.stats.outliers_influence import variance_inflation_factor\n",
    "import matplotlib.pyplot as plt\n",
    "plt.rcParams['axes.unicode_minus'] = False\n",
    "df = pd.DataFrame(pd.read_csv('iris_training.csv', encoding='gbk'))"
   ],
   "metadata": {
    "collapsed": false,
    "pycharm": {
     "name": "#%%\n"
    }
   }
  },
  {
   "cell_type": "code",
   "execution_count": 6,
   "outputs": [
    {
     "data": {
      "text/plain": "{'whiskers': [<matplotlib.lines.Line2D at 0x1c9dd696190>,\n  <matplotlib.lines.Line2D at 0x1c9dd696610>,\n  <matplotlib.lines.Line2D at 0x1c9dd1000d0>,\n  <matplotlib.lines.Line2D at 0x1c9dd1005e0>,\n  <matplotlib.lines.Line2D at 0x1c9dd101d90>,\n  <matplotlib.lines.Line2D at 0x1c9dd11f130>,\n  <matplotlib.lines.Line2D at 0x1c9dd0e46d0>,\n  <matplotlib.lines.Line2D at 0x1c9dd0e4af0>,\n  <matplotlib.lines.Line2D at 0x1c9dd10a5b0>,\n  <matplotlib.lines.Line2D at 0x1c9dd10aa00>],\n 'caps': [<matplotlib.lines.Line2D at 0x1c9dd696c10>,\n  <matplotlib.lines.Line2D at 0x1c9dd696eb0>,\n  <matplotlib.lines.Line2D at 0x1c9dd100940>,\n  <matplotlib.lines.Line2D at 0x1c9dd100e50>,\n  <matplotlib.lines.Line2D at 0x1c9dd11f490>,\n  <matplotlib.lines.Line2D at 0x1c9dd11f7f0>,\n  <matplotlib.lines.Line2D at 0x1c9dd0ee070>,\n  <matplotlib.lines.Line2D at 0x1c9dd0ee490>,\n  <matplotlib.lines.Line2D at 0x1c9dd10ae20>,\n  <matplotlib.lines.Line2D at 0x1c9dd0ef2b0>],\n 'boxes': [<matplotlib.lines.Line2D at 0x1c9dd691ee0>,\n  <matplotlib.lines.Line2D at 0x1c9dd6a3d30>,\n  <matplotlib.lines.Line2D at 0x1c9dd101a30>,\n  <matplotlib.lines.Line2D at 0x1c9dd0e4280>,\n  <matplotlib.lines.Line2D at 0x1c9dd10a190>],\n 'medians': [<matplotlib.lines.Line2D at 0x1c9dd6a34c0>,\n  <matplotlib.lines.Line2D at 0x1c9dd101040>,\n  <matplotlib.lines.Line2D at 0x1c9dd11fb50>,\n  <matplotlib.lines.Line2D at 0x1c9dd0ee8e0>,\n  <matplotlib.lines.Line2D at 0x1c9dd0ef6d0>],\n 'fliers': [<matplotlib.lines.Line2D at 0x1c9dd6a3820>,\n  <matplotlib.lines.Line2D at 0x1c9dd101550>,\n  <matplotlib.lines.Line2D at 0x1c9dd11ff10>,\n  <matplotlib.lines.Line2D at 0x1c9dd0eed00>,\n  <matplotlib.lines.Line2D at 0x1c9dd0efb20>],\n 'means': []}"
     },
     "execution_count": 6,
     "metadata": {},
     "output_type": "execute_result"
    },
    {
     "data": {
      "text/plain": "<Figure size 432x288 with 1 Axes>",
      "image/png": "[encoded data removed]"
     },
     "metadata": {
      "needs_background": "light"
     },
     "output_type": "display_data"
    }
   ],
   "source": [
    "plt.boxplot(df,labels=df.columns)"
   ],
   "metadata": {
    "collapsed": false,
    "pycharm": {
     "name": "#%%\n"
    }
   }
  },
  {
   "cell_type": "code",
   "execution_count": 5,
   "outputs": [
    {
     "data": {
      "text/plain": "Index(['花萼长度', '花萼宽度', '花瓣长度', '花瓣宽度', '花种类'], dtype='object')"
     },
     "execution_count": 5,
     "metadata": {},
     "output_type": "execute_result"
    }
   ],
   "source": [],
   "metadata": {
    "collapsed": false,
    "pycharm": {
     "name": "#%%\n"
    }
   }
  }
 ],
 "metadata": {
  "kernelspec": {
   "display_name": "Python 3",
   "language": "python",
   "name": "python3"
  },
  "language_info": {
   "codemirror_mode": {
    "name": "ipython",
    "version": 2
   },
   "file_extension": ".py",
   "mimetype": "text/x-python",
   "name": "python",
   "nbconvert_exporter": "python",
   "pygments_lexer": "ipython2",
   "version": "2.7.6"
  }
 },
 "nbformat": 4,
 "nbformat_minor": 0
}